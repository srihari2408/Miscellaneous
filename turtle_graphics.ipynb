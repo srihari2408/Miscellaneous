{
 "cells": [
  {
   "cell_type": "code",
   "execution_count": 1,
   "metadata": {},
   "outputs": [],
   "source": [
    "import turtle\n",
    "t = turtle.Turtle()\n",
    "s = turtle.Screen()\n",
    "s.bgcolor(\"#262626\")\n",
    "t.pencolor(\"#FF0000\")\n",
    "t.speed(100)\n",
    "col = ('#00FF00',\"#0000FF\",'#FFFFFF','#FFFF00')\n",
    "\n",
    "for i in range(5):\n",
    "    for x in range(8):\n",
    "        t.speed(x+10)\n",
    "        for n in range(2):\n",
    "            t.pensize(2)\n",
    "            t.circle(80+i*20,90)\n",
    "            t.lt(90)\n",
    "        t.lt(45)\n",
    "    t.pencolor(col[i%4])\n",
    "s.exitonclick()"
   ]
  },
  {
   "cell_type": "code",
   "execution_count": null,
   "metadata": {},
   "outputs": [],
   "source": []
  }
 ],
 "metadata": {
  "kernelspec": {
   "display_name": "Python 3",
   "language": "python",
   "name": "python3"
  },
  "language_info": {
   "codemirror_mode": {
    "name": "ipython",
    "version": 3
   },
   "file_extension": ".py",
   "mimetype": "text/x-python",
   "name": "python",
   "nbconvert_exporter": "python",
   "pygments_lexer": "ipython3",
   "version": "3.8.3"
  }
 },
 "nbformat": 4,
 "nbformat_minor": 4
}
